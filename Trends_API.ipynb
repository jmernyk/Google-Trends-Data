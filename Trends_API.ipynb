{
 "cells": [
  {
   "cell_type": "code",
   "execution_count": 52,
   "metadata": {},
   "outputs": [],
   "source": [
    "from pytrends.request import TrendReq\n",
    "from pytrends.exceptions import ResponseError\n",
    "import os\n",
    "import requests\n",
    "import pandas as pd\n",
    "from datetime import date, timedelta, datetime\n",
    "import glob\n",
    "\n",
    "\n",
    "pytrends = TrendReq(hl='en-US', tz = 240) #create pytrends object for api"
   ]
  },
  {
   "cell_type": "code",
   "execution_count": 53,
   "metadata": {},
   "outputs": [],
   "source": [
    "start = date(2014,1,1) #must follow format YYYY, m, d\n",
    "end = date(2019,5,16)\n",
    "\n",
    "delta = end - start\n",
    "times = []\n",
    "for i in range(delta.days + 1): #returns list of every date between start and end \n",
    "    dt = start + timedelta(days=i)\n",
    "    times.append(dt.strftime('%Y-%m-%d')) #convert datetime object into string and add to times ls"
   ]
  },
  {
   "cell_type": "code",
   "execution_count": 54,
   "metadata": {},
   "outputs": [],
   "source": [
    "kw = [\"Healthcare Jobs\"] #this can be changed to anything, holds up to 5 terms seperated by commas \n",
    "ls = [] #empty list to begin building df\n",
    "for i in range(0,len(times)-1): #iterates once for each day in date range between start and end \n",
    "    try:\n",
    "        pytrends.build_payload(kw, timeframe=times[i] + ' ' + times[i+1], geo='US') #building google trends payload, setting region to US\n",
    "        df = pytrends.interest_by_region(resolution = 'region') #get state level trends, return pandas dataframe\n",
    "        date = str(times[i]) #wrap date in string \n",
    "        df.rename({str(kw[0]):date}, axis='columns', inplace= True) #name column with date of search\n",
    "        ls.append(df.T) #add df to list of dfs. Transpose columns and rows (so that dates become rows and states become columns)\n",
    "    #sleep(2)\n",
    "    except (ResponseError, OSError) as e: #if google gets mad, don't lose everything we already gathered\n",
    "        if len(ls) < 1: #if ls is empty there is no reason to export it to a csv\n",
    "            print(e)\n",
    "            \n",
    "        else: #if list is not empty, save \n",
    "            print(e)\n",
    "            ls = pd.concat(ls) #combine dataframes stored in ls\n",
    "            fname = kw[0]+'.csv'\n",
    "            folder = '\\output\\folder\\if\\something\\goes\\wrong'\n",
    "            completename = os.path.join(folder, fname) #create complete file ouput name\n",
    "            if os.path.exists(completename): #if filename already exists, create new name\n",
    "                j = 0\n",
    "                while os.path.exists(completename): #while a file exists with the desired name, add an increasing number to the filename \n",
    "                    j += 1\n",
    "                    fname = kw[0] + \"(\"+str(j)+\").csv\" #new filename with number at the end\n",
    "                    completename = os.path.join(folder, fname)\n",
    "                    \n",
    "            ls.to_csv(completename)\n",
    "            print('file saved')\n",
    "        break\n",
    "\n"
   ]
  },
  {
   "cell_type": "code",
   "execution_count": 55,
   "metadata": {},
   "outputs": [],
   "source": [
    "ls = pd.concat(ls) #Combine data from each date in specified range\n",
    "ls.to_csv('path\\to\\desired\\directory') #Save dataframe as csv in desired location"
   ]
  },
  {
   "cell_type": "code",
   "execution_count": 57,
   "metadata": {},
   "outputs": [],
   "source": [
    "#If data for same search term is in several files, this will combine them \n",
    "def combine(path):\n",
    "    os.chdir(path)\n",
    "    extension = 'csv'\n",
    "    all_filenames = [i for i in glob.glob('*.{}'.format(extension))] #Collect list of all csv filenames\n",
    "    \n",
    "    combined_csv = pd.concat([pd.read_csv(f) for f in all_filenames ]) #Combine all csv in directory \n",
    "    combined_csv.to_csv( \"combined_csv.csv\", index=False) #Save as new csv name combined_csv.csv"
   ]
  },
  {
   "cell_type": "code",
   "execution_count": 59,
   "metadata": {},
   "outputs": [],
   "source": [
    "combine('path\\to\\files\\to\\combine') #Run combine method if necessary "
   ]
  },
  {
   "cell_type": "code",
   "execution_count": null,
   "metadata": {},
   "outputs": [],
   "source": []
  }
 ],
 "metadata": {
  "kernelspec": {
   "display_name": "Python 3",
   "language": "python",
   "name": "python3"
  },
  "language_info": {
   "codemirror_mode": {
    "name": "ipython",
    "version": 3
   },
   "file_extension": ".py",
   "mimetype": "text/x-python",
   "name": "python",
   "nbconvert_exporter": "python",
   "pygments_lexer": "ipython3",
   "version": "3.6.5"
  }
 },
 "nbformat": 4,
 "nbformat_minor": 2
}
