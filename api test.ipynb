{
 "cells": [
  {
   "cell_type": "code",
   "execution_count": 85,
   "metadata": {},
   "outputs": [],
   "source": [
    "from pytrends.request import TrendReq\n",
    "from pytrends.exceptions import ResponseError\n",
    "import os\n",
    "import requests\n",
    "import pandas as pd\n",
    "from datetime import date, timedelta, datetime\n",
    "from time import sleep\n",
    "\n",
    "\n",
    "pytrends = TrendReq(hl='en-US', tz = 240)"
   ]
  },
  {
   "cell_type": "code",
   "execution_count": 86,
   "metadata": {},
   "outputs": [],
   "source": [
    "start = date(2014,1,1)\n",
    "end = date(2015,1,1)\n",
    "\n",
    "delta = end - start\n",
    "times = []\n",
    "for i in range(delta.days + 1):\n",
    "    dt = start + timedelta(days=i)\n",
    "    times.append(dt.strftime('%Y-%m-%d'))"
   ]
  },
  {
   "cell_type": "code",
   "execution_count": 92,
   "metadata": {},
   "outputs": [
    {
     "name": "stdout",
     "output_type": "stream",
     "text": [
      "The request failed: Google returned a response with code 429.\n"
     ]
    }
   ],
   "source": [
    "kw = [\"Tech Jobs\"]\n",
    "ls = []\n",
    "for i in range(0,len(times)-1):\n",
    "    try:\n",
    "        pytrends.build_payload(kw, timeframe=times[i] + ' ' + times[i+1], geo='US')\n",
    "        df = pytrends.interest_by_region(resolution = 'region')\n",
    "        date = str(times[i])\n",
    "        df.rename({'Tech Jobs':date}, axis='columns', inplace= True)\n",
    "        ls.append(df.T)\n",
    "    #sleep(2)\n",
    "    except ResponseError as e:\n",
    "        if len(ls) < 1:\n",
    "            print(e)\n",
    "            break\n",
    "        else:\n",
    "            ls = pd.concat(ls)\n",
    "            ls.to_csv(r'D:\\West Data\\Tech Jobs 2014.csv')\n",
    "\n"
   ]
  },
  {
   "cell_type": "code",
   "execution_count": 62,
   "metadata": {},
   "outputs": [
    {
     "data": {
      "text/plain": [
       "[]"
      ]
     },
     "execution_count": 62,
     "metadata": {},
     "output_type": "execute_result"
    }
   ],
   "source": [
    "ls = pd.concat(ls)\n",
    "ls.to_csv(r'D:\\West Data\\Tech Jobs 2014.csv')"
   ]
  }
 ],
 "metadata": {
  "kernelspec": {
   "display_name": "Python 3",
   "language": "python",
   "name": "python3"
  },
  "language_info": {
   "codemirror_mode": {
    "name": "ipython",
    "version": 3
   },
   "file_extension": ".py",
   "mimetype": "text/x-python",
   "name": "python",
   "nbconvert_exporter": "python",
   "pygments_lexer": "ipython3",
   "version": "3.6.5"
  }
 },
 "nbformat": 4,
 "nbformat_minor": 2
}
